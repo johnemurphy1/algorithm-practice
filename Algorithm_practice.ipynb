{
  "nbformat": 4,
  "nbformat_minor": 0,
  "metadata": {
    "colab": {
      "provenance": [],
      "authorship_tag": "ABX9TyPlX1i0IWxLOxeIa++6g6nP",
      "include_colab_link": true
    },
    "kernelspec": {
      "name": "python3",
      "display_name": "Python 3"
    },
    "language_info": {
      "name": "python"
    }
  },
  "cells": [
    {
      "cell_type": "markdown",
      "metadata": {
        "id": "view-in-github",
        "colab_type": "text"
      },
      "source": [
        "<a href=\"https://colab.research.google.com/github/johnemurphy1/algorithm-practice/blob/main/Algorithm_practice.ipynb\" target=\"_parent\"><img src=\"https://colab.research.google.com/assets/colab-badge.svg\" alt=\"Open In Colab\"/></a>"
      ]
    },
    {
      "cell_type": "code",
      "execution_count": 1,
      "metadata": {
        "id": "PpDZ7ED6mGJX",
        "colab": {
          "base_uri": "https://localhost:8080/"
        },
        "outputId": "696b8929-f04f-4123-da9a-10fef1c921a5"
      },
      "outputs": [
        {
          "output_type": "stream",
          "name": "stdout",
          "text": [
            "Hello There!\n"
          ]
        }
      ],
      "source": [
        "print(\"Hello There!\")"
      ]
    }
  ]
}